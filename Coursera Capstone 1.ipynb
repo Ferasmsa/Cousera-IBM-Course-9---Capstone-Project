{
    "metadata": {
        "language_info": {
            "file_extension": ".py", 
            "mimetype": "text/x-python", 
            "nbconvert_exporter": "python", 
            "pygments_lexer": "ipython3", 
            "name": "python", 
            "codemirror_mode": {
                "version": 3, 
                "name": "ipython"
            }, 
            "version": "3.5.5"
        }, 
        "kernelspec": {
            "display_name": "Python 3.5", 
            "language": "python", 
            "name": "python3"
        }
    }, 
    "cells": [
        {
            "metadata": {
                "collapsed": true
            }, 
            "cell_type": "markdown", 
            "source": "# Coursera IBM Data Science Specialization Course 9 - Capstone"
        }, 
        {
            "metadata": {}, 
            "cell_type": "markdown", 
            "source": "#### This notebook is used for the Capstone project of theabove mentioned course. It has something to do with geographical data"
        }, 
        {
            "metadata": {}, 
            "cell_type": "code", 
            "outputs": [
                {
                    "output_type": "stream", 
                    "text": " Hello Capstone Project Course!\n", 
                    "name": "stdout"
                }
            ], 
            "execution_count": 1, 
            "source": "print(' Hello Capstone Project Course!')"
        }, 
        {
            "metadata": {}, 
            "cell_type": "code", 
            "outputs": [], 
            "execution_count": 2, 
            "source": "import pandas as pd\nimport numpy as np"
        }, 
        {
            "metadata": {}, 
            "cell_type": "code", 
            "outputs": [], 
            "execution_count": null, 
            "source": ""
        }
    ], 
    "nbformat": 4, 
    "nbformat_minor": 1
}